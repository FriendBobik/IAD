{
 "cells": [
  {
   "cell_type": "code",
   "execution_count": 1,
   "metadata": {
    "colab": {
     "base_uri": "https://localhost:8080/"
    },
    "id": "G5hkISklF1Gq",
    "outputId": "9af8cecb-3adf-40d9-a0c8-4017246dfb2c"
   },
   "outputs": [
    {
     "name": "stdout",
     "output_type": "stream",
     "text": [
      "Drive already mounted at /content/drive; to attempt to forcibly remount, call drive.mount(\"/content/drive\", force_remount=True).\n"
     ]
    }
   ],
   "source": [
    "from google.colab import drive\n",
    "drive.mount('/content/drive')\n"
   ]
  },
  {
   "cell_type": "code",
   "execution_count": 2,
   "metadata": {
    "id": "0mNJYfkYGLxd"
   },
   "outputs": [],
   "source": [
    "import pandas as pd\n",
    "import numpy as np\n",
    "\n",
    "import matplotlib.pyplot as plt\n",
    "import seaborn as sns\n",
    "\n",
    "from tqdm.notebook import tqdm"
   ]
  },
  {
   "cell_type": "code",
   "execution_count": 3,
   "metadata": {
    "colab": {
     "base_uri": "https://localhost:8080/",
     "height": 255
    },
    "id": "SdB5zIRiGJCp",
    "outputId": "1d6603b5-d277-49b2-ce38-682ae2e2eb1b"
   },
   "outputs": [
    {
     "name": "stderr",
     "output_type": "stream",
     "text": [
      "<ipython-input-3-165c5acb7e06>:1: DtypeWarning: Columns (0) have mixed types. Specify dtype option on import or set low_memory=False.\n",
      "  df_comments = pd.read_csv('/content/drive/MyDrive/news_data/vk_comments.tsv', sep='\\t')\n"
     ]
    },
    {
     "name": "stdout",
     "output_type": "stream",
     "text": [
      "(2612629, 5)\n"
     ]
    },
    {
     "data": {
      "application/vnd.google.colaboratory.intrinsic+json": {
       "type": "dataframe",
       "variable_name": "df_comments"
      },
      "text/html": [
       "\n",
       "  <div id=\"df-72ee4e8d-9ddd-4d5b-9f88-11408a3f75fb\" class=\"colab-df-container\">\n",
       "    <div>\n",
       "<style scoped>\n",
       "    .dataframe tbody tr th:only-of-type {\n",
       "        vertical-align: middle;\n",
       "    }\n",
       "\n",
       "    .dataframe tbody tr th {\n",
       "        vertical-align: top;\n",
       "    }\n",
       "\n",
       "    .dataframe thead th {\n",
       "        text-align: right;\n",
       "    }\n",
       "</style>\n",
       "<table border=\"1\" class=\"dataframe\">\n",
       "  <thead>\n",
       "    <tr style=\"text-align: right;\">\n",
       "      <th></th>\n",
       "      <th>id</th>\n",
       "      <th>post_id</th>\n",
       "      <th>datetime</th>\n",
       "      <th>text</th>\n",
       "      <th>likes</th>\n",
       "    </tr>\n",
       "  </thead>\n",
       "  <tbody>\n",
       "    <tr>\n",
       "      <th>0</th>\n",
       "      <td>24006366.0</td>\n",
       "      <td>24006362.0</td>\n",
       "      <td>2019-02-01 23:14:14</td>\n",
       "      <td>ЧВК Вагнера?</td>\n",
       "      <td>5.0</td>\n",
       "    </tr>\n",
       "    <tr>\n",
       "      <th>1</th>\n",
       "      <td>24006370.0</td>\n",
       "      <td>24006362.0</td>\n",
       "      <td>2019-02-01 23:15:23</td>\n",
       "      <td>[id4710641|Евгений], выздоравливай.</td>\n",
       "      <td>3.0</td>\n",
       "    </tr>\n",
       "    <tr>\n",
       "      <th>2</th>\n",
       "      <td>24006371.0</td>\n",
       "      <td>24006362.0</td>\n",
       "      <td>2019-02-01 23:16:21</td>\n",
       "      <td>[id442655034|Андрей], искренне желаю этого все...</td>\n",
       "      <td>4.0</td>\n",
       "    </tr>\n",
       "    <tr>\n",
       "      <th>3</th>\n",
       "      <td>24006374.0</td>\n",
       "      <td>24006362.0</td>\n",
       "      <td>2019-02-01 23:16:38</td>\n",
       "      <td>Опять про Украину новости?</td>\n",
       "      <td>1.0</td>\n",
       "    </tr>\n",
       "    <tr>\n",
       "      <th>4</th>\n",
       "      <td>24006375.0</td>\n",
       "      <td>24006362.0</td>\n",
       "      <td>2019-02-01 23:16:40</td>\n",
       "      <td>Че такое ДНР?</td>\n",
       "      <td>2.0</td>\n",
       "    </tr>\n",
       "  </tbody>\n",
       "</table>\n",
       "</div>\n",
       "    <div class=\"colab-df-buttons\">\n",
       "\n",
       "  <div class=\"colab-df-container\">\n",
       "    <button class=\"colab-df-convert\" onclick=\"convertToInteractive('df-72ee4e8d-9ddd-4d5b-9f88-11408a3f75fb')\"\n",
       "            title=\"Convert this dataframe to an interactive table.\"\n",
       "            style=\"display:none;\">\n",
       "\n",
       "  <svg xmlns=\"http://www.w3.org/2000/svg\" height=\"24px\" viewBox=\"0 -960 960 960\">\n",
       "    <path d=\"M120-120v-720h720v720H120Zm60-500h600v-160H180v160Zm220 220h160v-160H400v160Zm0 220h160v-160H400v160ZM180-400h160v-160H180v160Zm440 0h160v-160H620v160ZM180-180h160v-160H180v160Zm440 0h160v-160H620v160Z\"/>\n",
       "  </svg>\n",
       "    </button>\n",
       "\n",
       "  <style>\n",
       "    .colab-df-container {\n",
       "      display:flex;\n",
       "      gap: 12px;\n",
       "    }\n",
       "\n",
       "    .colab-df-convert {\n",
       "      background-color: #E8F0FE;\n",
       "      border: none;\n",
       "      border-radius: 50%;\n",
       "      cursor: pointer;\n",
       "      display: none;\n",
       "      fill: #1967D2;\n",
       "      height: 32px;\n",
       "      padding: 0 0 0 0;\n",
       "      width: 32px;\n",
       "    }\n",
       "\n",
       "    .colab-df-convert:hover {\n",
       "      background-color: #E2EBFA;\n",
       "      box-shadow: 0px 1px 2px rgba(60, 64, 67, 0.3), 0px 1px 3px 1px rgba(60, 64, 67, 0.15);\n",
       "      fill: #174EA6;\n",
       "    }\n",
       "\n",
       "    .colab-df-buttons div {\n",
       "      margin-bottom: 4px;\n",
       "    }\n",
       "\n",
       "    [theme=dark] .colab-df-convert {\n",
       "      background-color: #3B4455;\n",
       "      fill: #D2E3FC;\n",
       "    }\n",
       "\n",
       "    [theme=dark] .colab-df-convert:hover {\n",
       "      background-color: #434B5C;\n",
       "      box-shadow: 0px 1px 3px 1px rgba(0, 0, 0, 0.15);\n",
       "      filter: drop-shadow(0px 1px 2px rgba(0, 0, 0, 0.3));\n",
       "      fill: #FFFFFF;\n",
       "    }\n",
       "  </style>\n",
       "\n",
       "    <script>\n",
       "      const buttonEl =\n",
       "        document.querySelector('#df-72ee4e8d-9ddd-4d5b-9f88-11408a3f75fb button.colab-df-convert');\n",
       "      buttonEl.style.display =\n",
       "        google.colab.kernel.accessAllowed ? 'block' : 'none';\n",
       "\n",
       "      async function convertToInteractive(key) {\n",
       "        const element = document.querySelector('#df-72ee4e8d-9ddd-4d5b-9f88-11408a3f75fb');\n",
       "        const dataTable =\n",
       "          await google.colab.kernel.invokeFunction('convertToInteractive',\n",
       "                                                    [key], {});\n",
       "        if (!dataTable) return;\n",
       "\n",
       "        const docLinkHtml = 'Like what you see? Visit the ' +\n",
       "          '<a target=\"_blank\" href=https://colab.research.google.com/notebooks/data_table.ipynb>data table notebook</a>'\n",
       "          + ' to learn more about interactive tables.';\n",
       "        element.innerHTML = '';\n",
       "        dataTable['output_type'] = 'display_data';\n",
       "        await google.colab.output.renderOutput(dataTable, element);\n",
       "        const docLink = document.createElement('div');\n",
       "        docLink.innerHTML = docLinkHtml;\n",
       "        element.appendChild(docLink);\n",
       "      }\n",
       "    </script>\n",
       "  </div>\n",
       "\n",
       "\n",
       "<div id=\"df-2208773a-063d-439d-a524-036e57612d52\">\n",
       "  <button class=\"colab-df-quickchart\" onclick=\"quickchart('df-2208773a-063d-439d-a524-036e57612d52')\"\n",
       "            title=\"Suggest charts\"\n",
       "            style=\"display:none;\">\n",
       "\n",
       "<svg xmlns=\"http://www.w3.org/2000/svg\" height=\"24px\"viewBox=\"0 0 24 24\"\n",
       "     width=\"24px\">\n",
       "    <g>\n",
       "        <path d=\"M19 3H5c-1.1 0-2 .9-2 2v14c0 1.1.9 2 2 2h14c1.1 0 2-.9 2-2V5c0-1.1-.9-2-2-2zM9 17H7v-7h2v7zm4 0h-2V7h2v10zm4 0h-2v-4h2v4z\"/>\n",
       "    </g>\n",
       "</svg>\n",
       "  </button>\n",
       "\n",
       "<style>\n",
       "  .colab-df-quickchart {\n",
       "      --bg-color: #E8F0FE;\n",
       "      --fill-color: #1967D2;\n",
       "      --hover-bg-color: #E2EBFA;\n",
       "      --hover-fill-color: #174EA6;\n",
       "      --disabled-fill-color: #AAA;\n",
       "      --disabled-bg-color: #DDD;\n",
       "  }\n",
       "\n",
       "  [theme=dark] .colab-df-quickchart {\n",
       "      --bg-color: #3B4455;\n",
       "      --fill-color: #D2E3FC;\n",
       "      --hover-bg-color: #434B5C;\n",
       "      --hover-fill-color: #FFFFFF;\n",
       "      --disabled-bg-color: #3B4455;\n",
       "      --disabled-fill-color: #666;\n",
       "  }\n",
       "\n",
       "  .colab-df-quickchart {\n",
       "    background-color: var(--bg-color);\n",
       "    border: none;\n",
       "    border-radius: 50%;\n",
       "    cursor: pointer;\n",
       "    display: none;\n",
       "    fill: var(--fill-color);\n",
       "    height: 32px;\n",
       "    padding: 0;\n",
       "    width: 32px;\n",
       "  }\n",
       "\n",
       "  .colab-df-quickchart:hover {\n",
       "    background-color: var(--hover-bg-color);\n",
       "    box-shadow: 0 1px 2px rgba(60, 64, 67, 0.3), 0 1px 3px 1px rgba(60, 64, 67, 0.15);\n",
       "    fill: var(--button-hover-fill-color);\n",
       "  }\n",
       "\n",
       "  .colab-df-quickchart-complete:disabled,\n",
       "  .colab-df-quickchart-complete:disabled:hover {\n",
       "    background-color: var(--disabled-bg-color);\n",
       "    fill: var(--disabled-fill-color);\n",
       "    box-shadow: none;\n",
       "  }\n",
       "\n",
       "  .colab-df-spinner {\n",
       "    border: 2px solid var(--fill-color);\n",
       "    border-color: transparent;\n",
       "    border-bottom-color: var(--fill-color);\n",
       "    animation:\n",
       "      spin 1s steps(1) infinite;\n",
       "  }\n",
       "\n",
       "  @keyframes spin {\n",
       "    0% {\n",
       "      border-color: transparent;\n",
       "      border-bottom-color: var(--fill-color);\n",
       "      border-left-color: var(--fill-color);\n",
       "    }\n",
       "    20% {\n",
       "      border-color: transparent;\n",
       "      border-left-color: var(--fill-color);\n",
       "      border-top-color: var(--fill-color);\n",
       "    }\n",
       "    30% {\n",
       "      border-color: transparent;\n",
       "      border-left-color: var(--fill-color);\n",
       "      border-top-color: var(--fill-color);\n",
       "      border-right-color: var(--fill-color);\n",
       "    }\n",
       "    40% {\n",
       "      border-color: transparent;\n",
       "      border-right-color: var(--fill-color);\n",
       "      border-top-color: var(--fill-color);\n",
       "    }\n",
       "    60% {\n",
       "      border-color: transparent;\n",
       "      border-right-color: var(--fill-color);\n",
       "    }\n",
       "    80% {\n",
       "      border-color: transparent;\n",
       "      border-right-color: var(--fill-color);\n",
       "      border-bottom-color: var(--fill-color);\n",
       "    }\n",
       "    90% {\n",
       "      border-color: transparent;\n",
       "      border-bottom-color: var(--fill-color);\n",
       "    }\n",
       "  }\n",
       "</style>\n",
       "\n",
       "  <script>\n",
       "    async function quickchart(key) {\n",
       "      const quickchartButtonEl =\n",
       "        document.querySelector('#' + key + ' button');\n",
       "      quickchartButtonEl.disabled = true;  // To prevent multiple clicks.\n",
       "      quickchartButtonEl.classList.add('colab-df-spinner');\n",
       "      try {\n",
       "        const charts = await google.colab.kernel.invokeFunction(\n",
       "            'suggestCharts', [key], {});\n",
       "      } catch (error) {\n",
       "        console.error('Error during call to suggestCharts:', error);\n",
       "      }\n",
       "      quickchartButtonEl.classList.remove('colab-df-spinner');\n",
       "      quickchartButtonEl.classList.add('colab-df-quickchart-complete');\n",
       "    }\n",
       "    (() => {\n",
       "      let quickchartButtonEl =\n",
       "        document.querySelector('#df-2208773a-063d-439d-a524-036e57612d52 button');\n",
       "      quickchartButtonEl.style.display =\n",
       "        google.colab.kernel.accessAllowed ? 'block' : 'none';\n",
       "    })();\n",
       "  </script>\n",
       "</div>\n",
       "    </div>\n",
       "  </div>\n"
      ],
      "text/plain": [
       "           id     post_id             datetime  \\\n",
       "0  24006366.0  24006362.0  2019-02-01 23:14:14   \n",
       "1  24006370.0  24006362.0  2019-02-01 23:15:23   \n",
       "2  24006371.0  24006362.0  2019-02-01 23:16:21   \n",
       "3  24006374.0  24006362.0  2019-02-01 23:16:38   \n",
       "4  24006375.0  24006362.0  2019-02-01 23:16:40   \n",
       "\n",
       "                                                text  likes  \n",
       "0                                       ЧВК Вагнера?    5.0  \n",
       "1                [id4710641|Евгений], выздоравливай.    3.0  \n",
       "2  [id442655034|Андрей], искренне желаю этого все...    4.0  \n",
       "3                         Опять про Украину новости?    1.0  \n",
       "4                                      Че такое ДНР?    2.0  "
      ]
     },
     "execution_count": 3,
     "metadata": {},
     "output_type": "execute_result"
    }
   ],
   "source": [
    "df_comments = pd.read_csv('/content/drive/MyDrive/news_data/vk_comments.tsv', sep='\\t')\n",
    "df_comments = df_comments[~df_comments.text.isnull()]\n",
    "print(df_comments.shape)\n",
    "df_comments.head()"
   ]
  },
  {
   "cell_type": "markdown",
   "metadata": {
    "id": "H_jo72yzM_zm"
   },
   "source": [
    "## Часть 3: сентимент-классификатор (1.5 балла)"
   ]
  },
  {
   "cell_type": "markdown",
   "metadata": {
    "id": "uI33vB5bM_zm"
   },
   "source": [
    "В этой части тетрадки нам предстоит прогнать все комментарии из ВК через сентимент-классификатор. Мы будем делать это с помощью библиотеки HuggingFace. В ней есть удобная [функциональность pipline,](https://huggingface.co/docs/transformers/pipeline_tutorial) чтобы прогонять на своих данных уже обученные модели. 🤗🤗🤗"
   ]
  },
  {
   "cell_type": "code",
   "execution_count": 4,
   "metadata": {
    "colab": {
     "base_uri": "https://localhost:8080/",
     "height": 204
    },
    "id": "4VEwMUYxM_zm",
    "outputId": "aa8cc28b-3c27-42c6-c599-416c720e26c9"
   },
   "outputs": [
    {
     "data": {
      "application/vnd.google.colaboratory.intrinsic+json": {
       "type": "dataframe",
       "variable_name": "df_comments"
      },
      "text/html": [
       "\n",
       "  <div id=\"df-c9e76d7b-d262-4918-b249-ca3353a0fe5b\" class=\"colab-df-container\">\n",
       "    <div>\n",
       "<style scoped>\n",
       "    .dataframe tbody tr th:only-of-type {\n",
       "        vertical-align: middle;\n",
       "    }\n",
       "\n",
       "    .dataframe tbody tr th {\n",
       "        vertical-align: top;\n",
       "    }\n",
       "\n",
       "    .dataframe thead th {\n",
       "        text-align: right;\n",
       "    }\n",
       "</style>\n",
       "<table border=\"1\" class=\"dataframe\">\n",
       "  <thead>\n",
       "    <tr style=\"text-align: right;\">\n",
       "      <th></th>\n",
       "      <th>id</th>\n",
       "      <th>post_id</th>\n",
       "      <th>datetime</th>\n",
       "      <th>text</th>\n",
       "      <th>likes</th>\n",
       "    </tr>\n",
       "  </thead>\n",
       "  <tbody>\n",
       "    <tr>\n",
       "      <th>0</th>\n",
       "      <td>24006366.0</td>\n",
       "      <td>24006362.0</td>\n",
       "      <td>2019-02-01 23:14:14</td>\n",
       "      <td>ЧВК Вагнера?</td>\n",
       "      <td>5.0</td>\n",
       "    </tr>\n",
       "    <tr>\n",
       "      <th>1</th>\n",
       "      <td>24006370.0</td>\n",
       "      <td>24006362.0</td>\n",
       "      <td>2019-02-01 23:15:23</td>\n",
       "      <td>[id4710641|Евгений], выздоравливай.</td>\n",
       "      <td>3.0</td>\n",
       "    </tr>\n",
       "    <tr>\n",
       "      <th>2</th>\n",
       "      <td>24006371.0</td>\n",
       "      <td>24006362.0</td>\n",
       "      <td>2019-02-01 23:16:21</td>\n",
       "      <td>[id442655034|Андрей], искренне желаю этого все...</td>\n",
       "      <td>4.0</td>\n",
       "    </tr>\n",
       "    <tr>\n",
       "      <th>3</th>\n",
       "      <td>24006374.0</td>\n",
       "      <td>24006362.0</td>\n",
       "      <td>2019-02-01 23:16:38</td>\n",
       "      <td>Опять про Украину новости?</td>\n",
       "      <td>1.0</td>\n",
       "    </tr>\n",
       "    <tr>\n",
       "      <th>4</th>\n",
       "      <td>24006375.0</td>\n",
       "      <td>24006362.0</td>\n",
       "      <td>2019-02-01 23:16:40</td>\n",
       "      <td>Че такое ДНР?</td>\n",
       "      <td>2.0</td>\n",
       "    </tr>\n",
       "  </tbody>\n",
       "</table>\n",
       "</div>\n",
       "    <div class=\"colab-df-buttons\">\n",
       "\n",
       "  <div class=\"colab-df-container\">\n",
       "    <button class=\"colab-df-convert\" onclick=\"convertToInteractive('df-c9e76d7b-d262-4918-b249-ca3353a0fe5b')\"\n",
       "            title=\"Convert this dataframe to an interactive table.\"\n",
       "            style=\"display:none;\">\n",
       "\n",
       "  <svg xmlns=\"http://www.w3.org/2000/svg\" height=\"24px\" viewBox=\"0 -960 960 960\">\n",
       "    <path d=\"M120-120v-720h720v720H120Zm60-500h600v-160H180v160Zm220 220h160v-160H400v160Zm0 220h160v-160H400v160ZM180-400h160v-160H180v160Zm440 0h160v-160H620v160ZM180-180h160v-160H180v160Zm440 0h160v-160H620v160Z\"/>\n",
       "  </svg>\n",
       "    </button>\n",
       "\n",
       "  <style>\n",
       "    .colab-df-container {\n",
       "      display:flex;\n",
       "      gap: 12px;\n",
       "    }\n",
       "\n",
       "    .colab-df-convert {\n",
       "      background-color: #E8F0FE;\n",
       "      border: none;\n",
       "      border-radius: 50%;\n",
       "      cursor: pointer;\n",
       "      display: none;\n",
       "      fill: #1967D2;\n",
       "      height: 32px;\n",
       "      padding: 0 0 0 0;\n",
       "      width: 32px;\n",
       "    }\n",
       "\n",
       "    .colab-df-convert:hover {\n",
       "      background-color: #E2EBFA;\n",
       "      box-shadow: 0px 1px 2px rgba(60, 64, 67, 0.3), 0px 1px 3px 1px rgba(60, 64, 67, 0.15);\n",
       "      fill: #174EA6;\n",
       "    }\n",
       "\n",
       "    .colab-df-buttons div {\n",
       "      margin-bottom: 4px;\n",
       "    }\n",
       "\n",
       "    [theme=dark] .colab-df-convert {\n",
       "      background-color: #3B4455;\n",
       "      fill: #D2E3FC;\n",
       "    }\n",
       "\n",
       "    [theme=dark] .colab-df-convert:hover {\n",
       "      background-color: #434B5C;\n",
       "      box-shadow: 0px 1px 3px 1px rgba(0, 0, 0, 0.15);\n",
       "      filter: drop-shadow(0px 1px 2px rgba(0, 0, 0, 0.3));\n",
       "      fill: #FFFFFF;\n",
       "    }\n",
       "  </style>\n",
       "\n",
       "    <script>\n",
       "      const buttonEl =\n",
       "        document.querySelector('#df-c9e76d7b-d262-4918-b249-ca3353a0fe5b button.colab-df-convert');\n",
       "      buttonEl.style.display =\n",
       "        google.colab.kernel.accessAllowed ? 'block' : 'none';\n",
       "\n",
       "      async function convertToInteractive(key) {\n",
       "        const element = document.querySelector('#df-c9e76d7b-d262-4918-b249-ca3353a0fe5b');\n",
       "        const dataTable =\n",
       "          await google.colab.kernel.invokeFunction('convertToInteractive',\n",
       "                                                    [key], {});\n",
       "        if (!dataTable) return;\n",
       "\n",
       "        const docLinkHtml = 'Like what you see? Visit the ' +\n",
       "          '<a target=\"_blank\" href=https://colab.research.google.com/notebooks/data_table.ipynb>data table notebook</a>'\n",
       "          + ' to learn more about interactive tables.';\n",
       "        element.innerHTML = '';\n",
       "        dataTable['output_type'] = 'display_data';\n",
       "        await google.colab.output.renderOutput(dataTable, element);\n",
       "        const docLink = document.createElement('div');\n",
       "        docLink.innerHTML = docLinkHtml;\n",
       "        element.appendChild(docLink);\n",
       "      }\n",
       "    </script>\n",
       "  </div>\n",
       "\n",
       "\n",
       "<div id=\"df-5fddbd10-5db4-4806-ba57-1139aad06b59\">\n",
       "  <button class=\"colab-df-quickchart\" onclick=\"quickchart('df-5fddbd10-5db4-4806-ba57-1139aad06b59')\"\n",
       "            title=\"Suggest charts\"\n",
       "            style=\"display:none;\">\n",
       "\n",
       "<svg xmlns=\"http://www.w3.org/2000/svg\" height=\"24px\"viewBox=\"0 0 24 24\"\n",
       "     width=\"24px\">\n",
       "    <g>\n",
       "        <path d=\"M19 3H5c-1.1 0-2 .9-2 2v14c0 1.1.9 2 2 2h14c1.1 0 2-.9 2-2V5c0-1.1-.9-2-2-2zM9 17H7v-7h2v7zm4 0h-2V7h2v10zm4 0h-2v-4h2v4z\"/>\n",
       "    </g>\n",
       "</svg>\n",
       "  </button>\n",
       "\n",
       "<style>\n",
       "  .colab-df-quickchart {\n",
       "      --bg-color: #E8F0FE;\n",
       "      --fill-color: #1967D2;\n",
       "      --hover-bg-color: #E2EBFA;\n",
       "      --hover-fill-color: #174EA6;\n",
       "      --disabled-fill-color: #AAA;\n",
       "      --disabled-bg-color: #DDD;\n",
       "  }\n",
       "\n",
       "  [theme=dark] .colab-df-quickchart {\n",
       "      --bg-color: #3B4455;\n",
       "      --fill-color: #D2E3FC;\n",
       "      --hover-bg-color: #434B5C;\n",
       "      --hover-fill-color: #FFFFFF;\n",
       "      --disabled-bg-color: #3B4455;\n",
       "      --disabled-fill-color: #666;\n",
       "  }\n",
       "\n",
       "  .colab-df-quickchart {\n",
       "    background-color: var(--bg-color);\n",
       "    border: none;\n",
       "    border-radius: 50%;\n",
       "    cursor: pointer;\n",
       "    display: none;\n",
       "    fill: var(--fill-color);\n",
       "    height: 32px;\n",
       "    padding: 0;\n",
       "    width: 32px;\n",
       "  }\n",
       "\n",
       "  .colab-df-quickchart:hover {\n",
       "    background-color: var(--hover-bg-color);\n",
       "    box-shadow: 0 1px 2px rgba(60, 64, 67, 0.3), 0 1px 3px 1px rgba(60, 64, 67, 0.15);\n",
       "    fill: var(--button-hover-fill-color);\n",
       "  }\n",
       "\n",
       "  .colab-df-quickchart-complete:disabled,\n",
       "  .colab-df-quickchart-complete:disabled:hover {\n",
       "    background-color: var(--disabled-bg-color);\n",
       "    fill: var(--disabled-fill-color);\n",
       "    box-shadow: none;\n",
       "  }\n",
       "\n",
       "  .colab-df-spinner {\n",
       "    border: 2px solid var(--fill-color);\n",
       "    border-color: transparent;\n",
       "    border-bottom-color: var(--fill-color);\n",
       "    animation:\n",
       "      spin 1s steps(1) infinite;\n",
       "  }\n",
       "\n",
       "  @keyframes spin {\n",
       "    0% {\n",
       "      border-color: transparent;\n",
       "      border-bottom-color: var(--fill-color);\n",
       "      border-left-color: var(--fill-color);\n",
       "    }\n",
       "    20% {\n",
       "      border-color: transparent;\n",
       "      border-left-color: var(--fill-color);\n",
       "      border-top-color: var(--fill-color);\n",
       "    }\n",
       "    30% {\n",
       "      border-color: transparent;\n",
       "      border-left-color: var(--fill-color);\n",
       "      border-top-color: var(--fill-color);\n",
       "      border-right-color: var(--fill-color);\n",
       "    }\n",
       "    40% {\n",
       "      border-color: transparent;\n",
       "      border-right-color: var(--fill-color);\n",
       "      border-top-color: var(--fill-color);\n",
       "    }\n",
       "    60% {\n",
       "      border-color: transparent;\n",
       "      border-right-color: var(--fill-color);\n",
       "    }\n",
       "    80% {\n",
       "      border-color: transparent;\n",
       "      border-right-color: var(--fill-color);\n",
       "      border-bottom-color: var(--fill-color);\n",
       "    }\n",
       "    90% {\n",
       "      border-color: transparent;\n",
       "      border-bottom-color: var(--fill-color);\n",
       "    }\n",
       "  }\n",
       "</style>\n",
       "\n",
       "  <script>\n",
       "    async function quickchart(key) {\n",
       "      const quickchartButtonEl =\n",
       "        document.querySelector('#' + key + ' button');\n",
       "      quickchartButtonEl.disabled = true;  // To prevent multiple clicks.\n",
       "      quickchartButtonEl.classList.add('colab-df-spinner');\n",
       "      try {\n",
       "        const charts = await google.colab.kernel.invokeFunction(\n",
       "            'suggestCharts', [key], {});\n",
       "      } catch (error) {\n",
       "        console.error('Error during call to suggestCharts:', error);\n",
       "      }\n",
       "      quickchartButtonEl.classList.remove('colab-df-spinner');\n",
       "      quickchartButtonEl.classList.add('colab-df-quickchart-complete');\n",
       "    }\n",
       "    (() => {\n",
       "      let quickchartButtonEl =\n",
       "        document.querySelector('#df-5fddbd10-5db4-4806-ba57-1139aad06b59 button');\n",
       "      quickchartButtonEl.style.display =\n",
       "        google.colab.kernel.accessAllowed ? 'block' : 'none';\n",
       "    })();\n",
       "  </script>\n",
       "</div>\n",
       "    </div>\n",
       "  </div>\n"
      ],
      "text/plain": [
       "           id     post_id             datetime  \\\n",
       "0  24006366.0  24006362.0  2019-02-01 23:14:14   \n",
       "1  24006370.0  24006362.0  2019-02-01 23:15:23   \n",
       "2  24006371.0  24006362.0  2019-02-01 23:16:21   \n",
       "3  24006374.0  24006362.0  2019-02-01 23:16:38   \n",
       "4  24006375.0  24006362.0  2019-02-01 23:16:40   \n",
       "\n",
       "                                                text  likes  \n",
       "0                                       ЧВК Вагнера?    5.0  \n",
       "1                [id4710641|Евгений], выздоравливай.    3.0  \n",
       "2  [id442655034|Андрей], искренне желаю этого все...    4.0  \n",
       "3                         Опять про Украину новости?    1.0  \n",
       "4                                      Че такое ДНР?    2.0  "
      ]
     },
     "execution_count": 4,
     "metadata": {},
     "output_type": "execute_result"
    }
   ],
   "source": [
    "df_comments.head()"
   ]
  },
  {
   "cell_type": "markdown",
   "metadata": {
    "id": "3gVL29D3M_zm"
   },
   "source": [
    "**[1.5 балла] Задание 9:** Для классификации комментариев на позитивные, негативные и нейтральные будем использовать [модель, о которой можно почитать по ссылке](https://huggingface.co/seara/rubert-tiny2-russian-sentiment)\n",
    "\n",
    "Ответьте на следующие вопросы:\n",
    "\n",
    "1. Как зовут автора модели?\n",
    "2. Как выглядит архитектура модели? Насколько модель большая?\n",
    "3. На каких данных обучена модель? Адекватно ли использовать её для классификации комментариев ВК?\n",
    "\n",
    "1 Автора завут seara https://github.com/searayeah\n",
    "\n",
    "2 Модель основана на архитектуре RuBERT-tiny2, которая является компактной версией BERT, оптимизированной для русского языка. Модель имеет 29,2 миллионов параметров\n",
    "\n",
    "3 Модель обучена на объединении следующих датасетов:\n",
    "Kaggle Russian News Dataset\n",
    "Linis Crowd 2015\n",
    "Linis Crowd 2016\n",
    "RuReviews\n",
    "RuSentiment\n",
    "Используя эти данный модель должна хорошо класифицировать данные"
   ]
  },
  {
   "cell_type": "markdown",
   "metadata": {
    "id": "OiRvC0_gOTqn"
   },
   "source": [
    "**Варнинг:** в этом задании не обязательно ждать, пока код проскорит весь датасет - это долго. Напишите код, проверьте, что он корректно работает - проскорьте пару десятков строк датасета и принтаните их. Дальше вы можете взять уже проскоренный датасет. Возможно, кто-то проскорит все раньше остальных и захочет поделиться результатом. Вот его разрешается взять, как готовый результат выполнения задания. Главное - покажите, что ваш код тоже работает."
   ]
  },
  {
   "cell_type": "markdown",
   "metadata": {
    "id": "4cDtjMFaM_zm"
   },
   "source": [
    "Разберитесь как можно прогнать модель на корпусе комментариев и сделайте это. Да, с помощью pipeline можно запустить довольно сложные модели, обученные другими людьми в пару строчек. При объявлении модели не забудьте положить её на нужный `device` 🤗🤗🤗"
   ]
  },
  {
   "cell_type": "code",
   "execution_count": 5,
   "metadata": {
    "colab": {
     "base_uri": "https://localhost:8080/"
    },
    "id": "eXCH-UA0HfQI",
    "outputId": "5ee33131-96d3-4eda-9ee6-6f37a9b3933a"
   },
   "outputs": [
    {
     "name": "stdout",
     "output_type": "stream",
     "text": [
      "GPU\n"
     ]
    },
    {
     "name": "stderr",
     "output_type": "stream",
     "text": [
      "/usr/local/lib/python3.10/dist-packages/huggingface_hub/utils/_auth.py:94: UserWarning: \n",
      "The secret `HF_TOKEN` does not exist in your Colab secrets.\n",
      "To authenticate with the Hugging Face Hub, create a token in your settings tab (https://huggingface.co/settings/tokens), set it as secret in your Google Colab and restart your session.\n",
      "You will be able to reuse this secret in all of your notebooks.\n",
      "Please note that authentication is recommended but still optional to access public models or datasets.\n",
      "  warnings.warn(\n"
     ]
    }
   ],
   "source": [
    "from transformers import pipeline\n",
    "import torch\n",
    "\n",
    "device = 0 if torch.cuda.is_available() else -1\n",
    "print(f\"{'GPU' if device == 0 else 'CPU'}\")\n",
    "\n",
    "sentiment_pipeline = pipeline(\n",
    "    \"sentiment-analysis\",\n",
    "    model=\"seara/rubert-tiny2-russian-sentiment\",\n",
    "    tokenizer=\"seara/rubert-tiny2-russian-sentiment\",\n",
    "    device=device\n",
    ")"
   ]
  },
  {
   "cell_type": "code",
   "execution_count": 6,
   "metadata": {
    "colab": {
     "base_uri": "https://localhost:8080/"
    },
    "id": "sEfhf12pM_zm",
    "outputId": "f8007875-c961-4fd4-b919-ca0da3f5399d"
   },
   "outputs": [
    {
     "name": "stdout",
     "output_type": "stream",
     "text": [
      "ЧВК Вагнера? {'label': 'neutral', 'score': 0.9122462868690491}\n",
      "[id4710641|Евгений], выздоравливай. {'label': 'neutral', 'score': 0.8793703317642212}\n",
      "[id442655034|Андрей], искренне желаю этого всей фабрике. {'label': 'positive', 'score': 0.6762611865997314}\n",
      "Опять про Украину новости? {'label': 'neutral', 'score': 0.9259392023086548}\n",
      "Че такое ДНР? {'label': 'neutral', 'score': 0.866222620010376}\n"
     ]
    }
   ],
   "source": [
    "sample_comments = df_comments['text'].head(5).tolist()\n",
    "results = sentiment_pipeline(sample_comments, truncation=True, max_length=512)\n",
    "\n",
    "for comment, result in zip(sample_comments, results):\n",
    "    print(comment ,result )\n"
   ]
  },
  {
   "cell_type": "markdown",
   "metadata": {
    "id": "5XmrUVvhM_zm"
   },
   "source": [
    "Цикл для сентимент-анализа комментариев может работать довольно долго. Я крайне рекомендую вам переодически сохранять к себе на компьютер промежуточные результаты. Итоговый результат я рекомендую записать отдельным столбиком в таблицу с комментариями, а затем сохранить полученные результаты. 🤗🤗🤗"
   ]
  },
  {
   "cell_type": "code",
   "execution_count": 7,
   "metadata": {
    "id": "abGfsKAcJfjW"
   },
   "outputs": [],
   "source": [
    "random_sample = df_comments.sample(16384, random_state=11112004).copy()\n",
    "random_sample['sentiment_verdict'] = ''\n",
    "random_sample['sentiment_score'] = 0.0"
   ]
  },
  {
   "cell_type": "code",
   "execution_count": 8,
   "metadata": {
    "colab": {
     "base_uri": "https://localhost:8080/",
     "height": 66,
     "referenced_widgets": [
      "f5e7a97b10ba4c55b8faa2837b67a741",
      "e6376a5748434953984b386940a866f8",
      "4f21e381c2994c22a7d7373e68bae644",
      "e03bd156acce48ccbefca0a7354c77c2",
      "3348ce09012549aeb4e7b099716cbeb3",
      "a58b2f81460f48a4964f606fdf9fa297",
      "fba297d24ae84a9b9bd1d9748700014b",
      "da8fc4cc2db94bb0b41d441db35d177a",
      "59ae2f6de5ed4923894da3c223ee4dd0",
      "82f801f4c21a44d8877c4f7ebe9f4bb5",
      "c38df561342c48e8a9156c89e81a0d23"
     ]
    },
    "id": "jYpqlGahM_zm",
    "outputId": "78eb1fb2-37ff-4ac2-d735-cc1554bc7d99"
   },
   "outputs": [
    {
     "data": {
      "application/vnd.jupyter.widget-view+json": {
       "model_id": "f5e7a97b10ba4c55b8faa2837b67a741",
       "version_major": 2,
       "version_minor": 0
      },
      "text/plain": [
       "  0%|          | 0/128 [00:00<?, ?it/s]"
      ]
     },
     "metadata": {},
     "output_type": "display_data"
    },
    {
     "name": "stderr",
     "output_type": "stream",
     "text": [
      "You seem to be using the pipelines sequentially on GPU. In order to maximize efficiency please use a dataset\n"
     ]
    }
   ],
   "source": [
    "batch_size = 128\n",
    "texts = random_sample['text'].tolist()\n",
    "results = []\n",
    "\n",
    "for i in tqdm(range(0, len(texts), batch_size)):\n",
    "    batch_texts = texts[i:i + batch_size]\n",
    "    batch_results = sentiment_pipeline(batch_texts, truncation=True, max_length=512)\n",
    "    results.extend(batch_results)\n"
   ]
  },
  {
   "cell_type": "code",
   "execution_count": 9,
   "metadata": {
    "id": "aeRguaHKMTFu"
   },
   "outputs": [],
   "source": [
    "random_sample['sentiment_verdict'] = [res['label'] for res in results]\n",
    "random_sample['sentiment_score'] = [res['score'] for res in results]"
   ]
  },
  {
   "cell_type": "code",
   "execution_count": 10,
   "metadata": {
    "colab": {
     "base_uri": "https://localhost:8080/"
    },
    "id": "GC9i5BzrMrJh",
    "outputId": "e20462ab-7009-4ac1-ed13-5fbd0270427a"
   },
   "outputs": [
    {
     "name": "stdout",
     "output_type": "stream",
     "text": [
      "                                                      text sentiment_verdict  \\\n",
      "2080598  [id156699451|Лариса], Артур,Андрей...кто еще? ...           neutral   \n",
      "1732370  [id373697190|Belognev], вода вымывает клейкови...           neutral   \n",
      "809294   Порошенко сам того не ведая признался в госпер...           neutral   \n",
      "874584   Конченная странишка, с кучей больных на всю го...          negative   \n",
      "1984260                                                  😂           neutral   \n",
      "\n",
      "         sentiment_score  \n",
      "2080598         0.885798  \n",
      "1732370         0.855325  \n",
      "809294          0.690726  \n",
      "874584          0.855198  \n",
      "1984260         0.475078  \n"
     ]
    }
   ],
   "source": [
    "print(random_sample[['text', 'sentiment_verdict', 'sentiment_score']].head())"
   ]
  },
  {
   "cell_type": "code",
   "execution_count": 11,
   "metadata": {
    "id": "_hL18xVqMuEI"
   },
   "outputs": [],
   "source": [
    "output_path = '/content/drive/MyDrive/news_data/random.csv'\n",
    "random_sample.to_csv(output_path, index=False, encoding='utf-8-sig')"
   ]
  },
  {
   "cell_type": "markdown",
   "metadata": {
    "id": "smRVE1hVM_zn"
   },
   "source": [
    "## Часть 4: аналитика (3 балла + 0.2 бонусных)\n",
    "\n",
    "Мы с вами огромные молодцы. Мы обучили модель для категоризации новостей, построили с её помощью прогнозы. Мы проскорили комментарии на их сентимент-окрас. Теперь давайте проанализируем новости. Описывайте полученные результаты таким образом, чтобы не получить уголовку на 5 лет за дискредитацию чего-нибудь или оскорбление чувств кого-нибудь 💜"
   ]
  },
  {
   "cell_type": "markdown",
   "metadata": {
    "id": "7z-jdjgeM_zn"
   },
   "source": [
    "__[0.6 балла] Задание 10:__ Какая доля комментариев позитивная? Какая доля комментариев негативная? Выведите 10 самых позитивных комментариев.\n",
    "\n",
    "Выведите 10 самых негативных комментариев, поугарайте с них. Удалите их вывод из тетрадки. Никто не должен их видеть, это должно остаться только между нами. Поззитивные не удаляйте. Они пусть останутся."
   ]
  },
  {
   "cell_type": "code",
   "execution_count": 12,
   "metadata": {
    "colab": {
     "base_uri": "https://localhost:8080/"
    },
    "id": "EqOwlAusM_zn",
    "outputId": "e2981718-52f3-4273-d1ef-0155f11d2446"
   },
   "outputs": [
    {
     "name": "stdout",
     "output_type": "stream",
     "text": [
      "Доля комментариев по сентименту:\n",
      "sentiment_verdict\n",
      "positive     7.324219\n",
      "neutral     70.092773\n",
      "Name: proportion, dtype: float64\n"
     ]
    }
   ],
   "source": [
    "sentiment_counts = random_sample['sentiment_verdict'].value_counts(normalize=True) * 100\n",
    "print(\"Доля комментариев по сентименту:\")\n",
    "print(sentiment_counts[['positive', 'neutral']])"
   ]
  },
  {
   "cell_type": "code",
   "execution_count": 13,
   "metadata": {
    "colab": {
     "base_uri": "https://localhost:8080/"
    },
    "id": "SpYhcfPgN061",
    "outputId": "a2b07350-a716-49be-87d5-82d23e8fab78"
   },
   "outputs": [
    {
     "name": "stdout",
     "output_type": "stream",
     "text": [
      "                                                      text  sentiment_score\n",
      "1721636                                         Отлично!💐🏆         0.996178\n",
      "21299                                              Отлично         0.996048\n",
      "1038682                                     Отличное утро😁         0.995975\n",
      "477894                      Отлично ! Светлая память ему !         0.995885\n",
      "873131                                     Отличный актер👍         0.995882\n",
      "2294536               Отлично! Поздравляем Иранский народ!         0.995670\n",
      "2456455  Отлично,  просто отлично,  давно пора, ответоч...         0.995401\n",
      "311149                                    Отличный подарок         0.995342\n",
      "956725    Это очень круто!!! как путешествие во времени✨✨✨         0.995336\n",
      "2363264                      ура какая прекрассная новость         0.994962\n"
     ]
    }
   ],
   "source": [
    "top_positive = random_sample[random_sample['sentiment_verdict'] == 'positive'].sort_values(by='sentiment_score', ascending=False).head(10)\n",
    "print(top_positive[['text', 'sentiment_score']])"
   ]
  },
  {
   "cell_type": "code",
   "execution_count": 14,
   "metadata": {
    "id": "8PDa4jZaN8br"
   },
   "outputs": [],
   "source": [
    "top_negative = random_sample[random_sample['sentiment_verdict'] == 'neutral'].sort_values(by='sentiment_score', ascending=False).head(10)\n",
    "#print(top_negative[['text', 'sentiment_score']])"
   ]
  },
  {
   "cell_type": "markdown",
   "metadata": {
    "id": "SGfBQto1M_zn"
   },
   "source": [
    "__[0.6 балла] Задание 11:__ Для каждой новости из датасета посчитайте количество негативных и позитивных комментариев под ней. Сохраните эти количества в виде новых колонок."
   ]
  },
  {
   "cell_type": "code",
   "execution_count": 15,
   "metadata": {
    "colab": {
     "base_uri": "https://localhost:8080/"
    },
    "id": "WNySt0w7M_zn",
    "outputId": "44a4bdab-3377-42d4-d8b3-a56799962d83"
   },
   "outputs": [
    {
     "name": "stdout",
     "output_type": "stream",
     "text": [
      "       post_id  positive_comments  negative_comments\n",
      "0   19760905.0                  0                  1\n",
      "1   20646463.0                  0                  6\n",
      "2   22521096.0                  0                  1\n",
      "3   22407412.0                  0                  0\n",
      "4   20055685.0                  0                  1\n",
      "5   20126305.0                  0                  0\n",
      "6   20045195.0                  0                  3\n",
      "7   23999979.0                  1                  2\n",
      "8   21854929.0                  0                  2\n",
      "9   21792439.0                  0                  2\n",
      "10  20802704.0                  0                  1\n",
      "11  19240675.0                  0                  1\n",
      "12  18973840.0                  2                  1\n",
      "13  19071169.0                  0                  2\n",
      "14  21311656.0                  0                  2\n"
     ]
    }
   ],
   "source": [
    "sentiment_summary = random_sample.groupby(['post_id', 'sentiment_verdict']).size().unstack(fill_value=0)\n",
    "sentiment_summary = sentiment_summary.rename(columns={'positive': 'positive_comments', 'neutral': 'negative_comments'})\n",
    "\n",
    "random_sample = random_sample.merge(sentiment_summary, on='post_id', how='left')\n",
    "\n",
    "random_sample['positive_comments'] = random_sample['positive_comments'].fillna(0).astype(int)\n",
    "random_sample['negative_comments'] = random_sample['negative_comments'].fillna(0).astype(int)\n",
    "\n",
    "print(random_sample[['post_id', 'positive_comments', 'negative_comments']].head(15))\n"
   ]
  },
  {
   "cell_type": "markdown",
   "metadata": {
    "id": "jBOzB5yBM_zn"
   },
   "source": [
    "__[0.6 балла] Задание 12:__ Правда ли, что новости с большим количеством лайков получают больше негативных комментариев? А позитивных? Правда ли, что чем больше лайков, тем под новостью больше комментариев?\n",
    "\n",
    "Постройте визуализацию, которая могла бы это проиллюстрировать."
   ]
  },
  {
   "cell_type": "code",
   "execution_count": 28,
   "metadata": {
    "colab": {
     "base_uri": "https://localhost:8080/",
     "height": 545
    },
    "id": "UjI74lt5M_zn",
    "outputId": "78493747-c839-4b38-9b55-d6e0a577d900"
   },
   "outputs": [
    {
     "data": {
      "image/png": "[encoded data removed]",
      "text/plain": [
       "<Figure size 1000x600 with 2 Axes>"
      ]
     },
     "metadata": {},
     "output_type": "display_data"
    }
   ],
   "source": [
    "likes_summary = random_sample.groupby('post_id')['likes'].first().reset_index()\n",
    "\n",
    "comments_summary = random_sample.groupby('post_id').agg(\n",
    "    total_comments=('post_id', 'size'),\n",
    "    positive_comments=('positive_comments', 'sum'),\n",
    "    negative_comments=('negative_comments', 'sum')\n",
    ").reset_index()\n",
    "\n",
    "news_analysis = likes_summary.merge(comments_summary, on='post_id', how='left')\n",
    "\n",
    "correlation = news_analysis[['likes', 'total_comments', 'positive_comments', 'negative_comments']].corr()\n",
    "#print(correlation)\n",
    "\n",
    "plt.figure(figsize=(10,6))\n",
    "sns.heatmap(correlation, annot=True, cmap='coolwarm', fmt=\".2f\")\n",
    "plt.title('Корреляционная матрица')\n",
    "plt.show()\n"
   ]
  },
  {
   "cell_type": "code",
   "execution_count": 30,
   "metadata": {
    "colab": {
     "base_uri": "https://localhost:8080/",
     "height": 564
    },
    "id": "YxNbb4lERin-",
    "outputId": "341bd651-3bd1-4d28-c9a3-2a5fd8a75d1c"
   },
   "outputs": [
    {
     "data": {
      "image/png": "[encoded data removed]",
      "text/plain": [
       "<Figure size 1000x600 with 1 Axes>"
      ]
     },
     "metadata": {},
     "output_type": "display_data"
    }
   ],
   "source": [
    "plt.figure(figsize=(10,6))\n",
    "sns.scatterplot(data=news_analysis, x='likes', y='negative_comments')\n",
    "plt.title('Лайки vs Негативные комментарии')\n",
    "plt.xlabel('Количество лайков')\n",
    "plt.ylabel('Количество негативных комментариев')\n",
    "plt.show()"
   ]
  },
  {
   "cell_type": "code",
   "execution_count": 32,
   "metadata": {
    "colab": {
     "base_uri": "https://localhost:8080/",
     "height": 564
    },
    "id": "Et_X1Y-QRn_4",
    "outputId": "1745de2b-2784-4628-fa21-1ff001597c58"
   },
   "outputs": [
    {
     "data": {
      "image/png": "[encoded data removed]",
      "text/plain": [
       "<Figure size 1000x600 with 1 Axes>"
      ]
     },
     "metadata": {},
     "output_type": "display_data"
    }
   ],
   "source": [
    "plt.figure(figsize=(10,6))\n",
    "sns.scatterplot(data=news_analysis, x='likes', y='positive_comments')\n",
    "plt.title('Лайки vs Позитивные комментарии')\n",
    "plt.xlabel('Количество лайков')\n",
    "plt.ylabel('Количество позитивных комментариев')\n",
    "plt.show()"
   ]
  },
  {
   "cell_type": "code",
   "execution_count": 34,
   "metadata": {
    "colab": {
     "base_uri": "https://localhost:8080/",
     "height": 564
    },
    "id": "3Bvoj8IqRuqG",
    "outputId": "9a2d3e5d-2d33-4887-b30e-639aca3b9c95"
   },
   "outputs": [
    {
     "data": {
      "image/png": "[encoded data removed]",
      "text/plain": [
       "<Figure size 1000x600 with 1 Axes>"
      ]
     },
     "metadata": {},
     "output_type": "display_data"
    }
   ],
   "source": [
    "plt.figure(figsize=(10,6))\n",
    "sns.scatterplot(data=news_analysis, x='likes', y='total_comments')\n",
    "plt.title('Лайки vs Общее количество комментариев')\n",
    "plt.xlabel('Количество лайков')\n",
    "plt.ylabel('Общее количество комментариев')\n",
    "plt.show()"
   ]
  },
  {
   "cell_type": "markdown",
   "metadata": {
    "id": "wP-DINRORyyY"
   },
   "source": [
    "### Хочется построить прямые, но строить прямые по НАСТОЛКО не нормированным данным, кторый сосредоточены так у углов, моя душа не позволяет. Так что ограничемся утверждением корреляционная матрицы, что корреляция почти 0, и значит НЕТ НИКАКОЙ СВЯЗИ между количеством лайков и негативных коментов"
   ]
  },
  {
   "cell_type": "markdown",
   "metadata": {
    "id": "3wN5AFrAM_zn"
   },
   "source": [
    "__[0.6 балла] Задание 13:__  Давайте построим по сентимент-окрасу комментариев топ позитивных новостей.\n",
    "\n",
    "- Если под новостью оставлено 100 комментариев, из которых 80 позитивные, мы можем быть уверены в том, что новость была хорошо воспринята людьми.\n",
    "- Если под новостью всего один комментарий и он оказался позитивным, то у нас 100% позитивных комментариев, но это вовсе не означает, что новость была воспринята хорошо.\n",
    "\n",
    "Получается, что сортировать по доле позитивных комментариев нельзя. Давайте поступим умнее. Доля позитивных комментариев под постом -- это случайная величина. Её довольно часто моделируют с помощью бета-распределения. Если это случайная величина, мы можем построить для неё предиктивный интервал. Пусть $u$ - число позитивных комментариев, а $d$ - нейтральных и негативных.  Пусть\n",
    "\n",
    "$$\n",
    "a = 1 + u \\qquad b = 1 + d.\n",
    "$$\n",
    "\n",
    "Тогда нижняя граница $95\\%$ предиктивного интервала для доли будет вычисляться по такой формуле:\n",
    "\n",
    "$$\n",
    "\\frac{a}{a + b} - 1.65 \\cdot \\sqrt{\\frac{a \\cdot b}{(a + b)^2 \\cdot (a + b + 1)}}\n",
    "$$\n",
    "\n",
    "Если под новостью был всего один комментарий, у такой случайной величины будет высокая дисперсия. Это означаeт, что штука, которую мы вычитаем из доли, окажется высокой. Левая граница интервала окажется маленькой и мы не поднимем комментарий в нашем топе наверх. Фактически мы делаем сортировку по квантилю уровня $0.05$ вместо среднего.\n",
    "\n",
    "От вас требуется вбить эту формулу, сделать сортировку и вывести на экран топ позитивных новостей. Подробнее про то, откуда берётся эта формула можно почитать [в этой книге.](https://disk.yandex.ru/i/Ctd08bTwC9eI3g) Ищите 4 главу, страницу 140."
   ]
  },
  {
   "cell_type": "code",
   "execution_count": 45,
   "metadata": {
    "colab": {
     "base_uri": "https://localhost:8080/"
    },
    "id": "ToygzCZwM_zn",
    "outputId": "67fcf949-21eb-47ac-d2cd-e535a77a7055"
   },
   "outputs": [
    {
     "name": "stdout",
     "output_type": "stream",
     "text": [
      "               id     post_id             datetime  \\\n",
      "14340    21534399  21534246.0  2018-07-07 23:05:55   \n",
      "12290    22012627  22012344.0  2018-08-18 16:25:40   \n",
      "3557     19377758  19377666.0  2018-01-25 07:49:02   \n",
      "5611     19377730  19377666.0  2018-01-25 07:46:39   \n",
      "3535   23783889.0  23778749.0  2019-01-15 13:55:48   \n",
      "2375     20819966  20818274.0  2018-05-09 05:58:54   \n",
      "318      18428238  18427404.0  2017-11-06 21:21:03   \n",
      "799      22779197  22777411.0  2018-10-20 10:17:36   \n",
      "15654    19738990  19734372.0  2018-02-23 16:18:31   \n",
      "13939    20068693  20065831.0  2018-03-18 16:25:05   \n",
      "\n",
      "                                                    text  likes  \\\n",
      "14340                                 красива так и надо    0.0   \n",
      "12290  Поздравляю от души этого прекрасного спортсмен...    1.0   \n",
      "3557   Очень очень жаль, что болезнь унесла жизнь тал...    3.0   \n",
      "5611    Очень жаль! Красивый голос! Вечная память!💐👏👏👏👏👏   19.0   \n",
      "3535   [id63465863|Анна], Роскосмос-гигантская трансн...    1.0   \n",
      "2375   Григорий - Правда жизни действительно в том, ч...    1.0   \n",
      "318    Helga, Олга, я вас люблю!!! Вы профессионалы!!...    1.0   \n",
      "799                 Да я видела ,классная артистка была.    0.0   \n",
      "15654                        Ай да умнички мужчины!!!💋☝😍    2.0   \n",
      "13939  Девушки,вы молодцы!Вы не только выиграли Олимп...    8.0   \n",
      "\n",
      "      sentiment_verdict  sentiment_score  negative  negative_comments  \\\n",
      "14340          positive         0.834331         0                  0   \n",
      "12290          positive         0.967072         0                  0   \n",
      "3557           positive         0.561642         0                  0   \n",
      "5611           positive         0.706985         0                  0   \n",
      "3535           positive         0.641820         0                  0   \n",
      "2375           positive         0.713449         0                  0   \n",
      "318            positive         0.989203         1                  0   \n",
      "799            positive         0.975813         0                  0   \n",
      "15654          positive         0.966435         1                  0   \n",
      "13939          positive         0.469550         0                  0   \n",
      "\n",
      "       positive_comments  lower_bound  negative_lower_bound  \n",
      "14340                  2     0.430479                   NaN  \n",
      "12290                  2     0.430479                   NaN  \n",
      "3557                   2     0.430479              0.277758  \n",
      "5611                   2     0.430479              0.693105  \n",
      "3535                   2     0.430479              0.882880  \n",
      "2375                   2     0.430479              0.023686  \n",
      "318                    2     0.430479              0.277758  \n",
      "799                    2     0.430479              0.750752  \n",
      "15654                  2     0.430479                   NaN  \n",
      "13939                  2     0.430479                   NaN  \n"
     ]
    }
   ],
   "source": [
    "def compute_lower_bound(u, d):\n",
    "    a = 1 + u\n",
    "    b = 1 + d\n",
    "    proportion = a / (a + b)\n",
    "    variance = (a * b) / ((a + b)**2 * (a + b + 1))\n",
    "    lower_bound = proportion - 1.65 * np.sqrt(variance)\n",
    "    return max(lower_bound, 0)\n",
    "\n",
    "random_sample['lower_bound'] = random_sample.apply(\n",
    "    lambda row: compute_lower_bound(row['positive_comments'], row['negative_comments']), axis=1\n",
    ")\n",
    "\n",
    "random_sample['negative_lower_bound'] = news_analysis.apply(\n",
    "    lambda row: compute_lower_bound(row['negative_comments'], row['positive_comments']), axis=1\n",
    ")\n",
    "\n",
    "\n",
    "top_positive_news = random_sample.sort_values(by='lower_bound', ascending=False).head(10)\n",
    "top_negative_news = random_sample.sort_values(by='negative_lower_bound', ascending=False).head(10)\n",
    "\n",
    "print(top_positive_news)\n",
    "#print(top_negative_news) не будем такой читать\n",
    "\n",
    "output_top_positive = '/content/drive/MyDrive/news_data/top_positive_news.csv'\n",
    "top_positive_news.to_csv(output_top_positive, index=False, encoding='utf-8-sig')\n"
   ]
  },
  {
   "cell_type": "markdown",
   "metadata": {
    "id": "8CuDk6kbM_zn"
   },
   "source": [
    "Построили? Срочно пришлите свою любимую позитивную  новость в общий чат!!!\n",
    "\n",
    "Топ негативных новостей строить не будем. Вокруг итак слишком много негатива 😻😻😻"
   ]
  },
  {
   "cell_type": "markdown",
   "metadata": {
    "id": "Gg_wCzsBM_zn"
   },
   "source": [
    "__[0.6 балла] Задание 14:__ Какие категории новостей оказались самыми позитивными? Придумайте способ найти такие категории и опишите его тут.\n",
    "\n",
    "__Ответ:__"
   ]
  },
  {
   "cell_type": "code",
   "execution_count": 50,
   "metadata": {
    "id": "5RAC5LQkVf8J"
   },
   "outputs": [],
   "source": [
    "# your code here\n",
    "# ヾ(๑╹◡╹)ﾉ\n",
    "\n",
    "\n",
    "#АААААА на часах 23:50, я не успел :("
   ]
  },
  {
   "cell_type": "markdown",
   "metadata": {
    "id": "gDFw6uQeM_zn"
   },
   "source": [
    "__[0.2 балла] Бонусное задание 3:__ Проанализируйте, как температура комментария (вероятность того, что он негативный) зависит от длины трэда (число комментариев под новостью)? Значима ли эта взаимосвязь? Если вам для проверки этого хочется построить линейную регрессию, не сдерживайтесь."
   ]
  },
  {
   "cell_type": "code",
   "execution_count": 19,
   "metadata": {
    "id": "usdYfPV0M_zn"
   },
   "outputs": [],
   "source": [
    "# your code here\n",
    "# ヾ(๑╹◡╹)ﾉ"
   ]
  }
 ],
 "metadata": {
  "accelerator": "GPU",
  "colab": {
   "gpuType": "T4",
   "provenance": []
  },
  "kernelspec": {
   "display_name": "Python 3",
   "language": "python",
   "name": "python3"
  },
  "language_info": {
   "codemirror_mode": {
    "name": "ipython",
    "version": 3
   },
   "file_extension": ".py",
   "mimetype": "text/x-python",
   "name": "python",
   "nbconvert_exporter": "python",
   "pygments_lexer": "ipython3",
   "version": "3.11.7"
  },
  "widgets": {
   "application/vnd.jupyter.widget-state+json": {
    "3348ce09012549aeb4e7b099716cbeb3": {
     "model_module": "@jupyter-widgets/base",
     "model_module_version": "1.2.0",
     "model_name": "LayoutModel",
     "state": {
      "_model_module": "@jupyter-widgets/base",
      "_model_module_version": "1.2.0",
      "_model_name": "LayoutModel",
      "_view_count": null,
      "_view_module": "@jupyter-widgets/base",
      "_view_module_version": "1.2.0",
      "_view_name": "LayoutView",
      "align_content": null,
      "align_items": null,
      "align_self": null,
      "border": null,
      "bottom": null,
      "display": null,
      "flex": null,
      "flex_flow": null,
      "grid_area": null,
      "grid_auto_columns": null,
      "grid_auto_flow": null,
      "grid_auto_rows": null,
      "grid_column": null,
      "grid_gap": null,
      "grid_row": null,
      "grid_template_areas": null,
      "grid_template_columns": null,
      "grid_template_rows": null,
      "height": null,
      "justify_content": null,
      "justify_items": null,
      "left": null,
      "margin": null,
      "max_height": null,
      "max_width": null,
      "min_height": null,
      "min_width": null,
      "object_fit": null,
      "object_position": null,
      "order": null,
      "overflow": null,
      "overflow_x": null,
      "overflow_y": null,
      "padding": null,
      "right": null,
      "top": null,
      "visibility": null,
      "width": null
     }
    },
    "4f21e381c2994c22a7d7373e68bae644": {
     "model_module": "@jupyter-widgets/controls",
     "model_module_version": "1.5.0",
     "model_name": "FloatProgressModel",
     "state": {
      "_dom_classes": [],
      "_model_module": "@jupyter-widgets/controls",
      "_model_module_version": "1.5.0",
      "_model_name": "FloatProgressModel",
      "_view_count": null,
      "_view_module": "@jupyter-widgets/controls",
      "_view_module_version": "1.5.0",
      "_view_name": "ProgressView",
      "bar_style": "success",
      "description": "",
      "description_tooltip": null,
      "layout": "IPY_MODEL_da8fc4cc2db94bb0b41d441db35d177a",
      "max": 128,
      "min": 0,
      "orientation": "horizontal",
      "style": "IPY_MODEL_59ae2f6de5ed4923894da3c223ee4dd0",
      "value": 128
     }
    },
    "59ae2f6de5ed4923894da3c223ee4dd0": {
     "model_module": "@jupyter-widgets/controls",
     "model_module_version": "1.5.0",
     "model_name": "ProgressStyleModel",
     "state": {
      "_model_module": "@jupyter-widgets/controls",
      "_model_module_version": "1.5.0",
      "_model_name": "ProgressStyleModel",
      "_view_count": null,
      "_view_module": "@jupyter-widgets/base",
      "_view_module_version": "1.2.0",
      "_view_name": "StyleView",
      "bar_color": null,
      "description_width": ""
     }
    },
    "82f801f4c21a44d8877c4f7ebe9f4bb5": {
     "model_module": "@jupyter-widgets/base",
     "model_module_version": "1.2.0",
     "model_name": "LayoutModel",
     "state": {
      "_model_module": "@jupyter-widgets/base",
      "_model_module_version": "1.2.0",
      "_model_name": "LayoutModel",
      "_view_count": null,
      "_view_module": "@jupyter-widgets/base",
      "_view_module_version": "1.2.0",
      "_view_name": "LayoutView",
      "align_content": null,
      "align_items": null,
      "align_self": null,
      "border": null,
      "bottom": null,
      "display": null,
      "flex": null,
      "flex_flow": null,
      "grid_area": null,
      "grid_auto_columns": null,
      "grid_auto_flow": null,
      "grid_auto_rows": null,
      "grid_column": null,
      "grid_gap": null,
      "grid_row": null,
      "grid_template_areas": null,
      "grid_template_columns": null,
      "grid_template_rows": null,
      "height": null,
      "justify_content": null,
      "justify_items": null,
      "left": null,
      "margin": null,
      "max_height": null,
      "max_width": null,
      "min_height": null,
      "min_width": null,
      "object_fit": null,
      "object_position": null,
      "order": null,
      "overflow": null,
      "overflow_x": null,
      "overflow_y": null,
      "padding": null,
      "right": null,
      "top": null,
      "visibility": null,
      "width": null
     }
    },
    "a58b2f81460f48a4964f606fdf9fa297": {
     "model_module": "@jupyter-widgets/base",
     "model_module_version": "1.2.0",
     "model_name": "LayoutModel",
     "state": {
      "_model_module": "@jupyter-widgets/base",
      "_model_module_version": "1.2.0",
      "_model_name": "LayoutModel",
      "_view_count": null,
      "_view_module": "@jupyter-widgets/base",
      "_view_module_version": "1.2.0",
      "_view_name": "LayoutView",
      "align_content": null,
      "align_items": null,
      "align_self": null,
      "border": null,
      "bottom": null,
      "display": null,
      "flex": null,
      "flex_flow": null,
      "grid_area": null,
      "grid_auto_columns": null,
      "grid_auto_flow": null,
      "grid_auto_rows": null,
      "grid_column": null,
      "grid_gap": null,
      "grid_row": null,
      "grid_template_areas": null,
      "grid_template_columns": null,
      "grid_template_rows": null,
      "height": null,
      "justify_content": null,
      "justify_items": null,
      "left": null,
      "margin": null,
      "max_height": null,
      "max_width": null,
      "min_height": null,
      "min_width": null,
      "object_fit": null,
      "object_position": null,
      "order": null,
      "overflow": null,
      "overflow_x": null,
      "overflow_y": null,
      "padding": null,
      "right": null,
      "top": null,
      "visibility": null,
      "width": null
     }
    },
    "c38df561342c48e8a9156c89e81a0d23": {
     "model_module": "@jupyter-widgets/controls",
     "model_module_version": "1.5.0",
     "model_name": "DescriptionStyleModel",
     "state": {
      "_model_module": "@jupyter-widgets/controls",
      "_model_module_version": "1.5.0",
      "_model_name": "DescriptionStyleModel",
      "_view_count": null,
      "_view_module": "@jupyter-widgets/base",
      "_view_module_version": "1.2.0",
      "_view_name": "StyleView",
      "description_width": ""
     }
    },
    "da8fc4cc2db94bb0b41d441db35d177a": {
     "model_module": "@jupyter-widgets/base",
     "model_module_version": "1.2.0",
     "model_name": "LayoutModel",
     "state": {
      "_model_module": "@jupyter-widgets/base",
      "_model_module_version": "1.2.0",
      "_model_name": "LayoutModel",
      "_view_count": null,
      "_view_module": "@jupyter-widgets/base",
      "_view_module_version": "1.2.0",
      "_view_name": "LayoutView",
      "align_content": null,
      "align_items": null,
      "align_self": null,
      "border": null,
      "bottom": null,
      "display": null,
      "flex": null,
      "flex_flow": null,
      "grid_area": null,
      "grid_auto_columns": null,
      "grid_auto_flow": null,
      "grid_auto_rows": null,
      "grid_column": null,
      "grid_gap": null,
      "grid_row": null,
      "grid_template_areas": null,
      "grid_template_columns": null,
      "grid_template_rows": null,
      "height": null,
      "justify_content": null,
      "justify_items": null,
      "left": null,
      "margin": null,
      "max_height": null,
      "max_width": null,
      "min_height": null,
      "min_width": null,
      "object_fit": null,
      "object_position": null,
      "order": null,
      "overflow": null,
      "overflow_x": null,
      "overflow_y": null,
      "padding": null,
      "right": null,
      "top": null,
      "visibility": null,
      "width": null
     }
    },
    "e03bd156acce48ccbefca0a7354c77c2": {
     "model_module": "@jupyter-widgets/controls",
     "model_module_version": "1.5.0",
     "model_name": "HTMLModel",
     "state": {
      "_dom_classes": [],
      "_model_module": "@jupyter-widgets/controls",
      "_model_module_version": "1.5.0",
      "_model_name": "HTMLModel",
      "_view_count": null,
      "_view_module": "@jupyter-widgets/controls",
      "_view_module_version": "1.5.0",
      "_view_name": "HTMLView",
      "description": "",
      "description_tooltip": null,
      "layout": "IPY_MODEL_82f801f4c21a44d8877c4f7ebe9f4bb5",
      "placeholder": "​",
      "style": "IPY_MODEL_c38df561342c48e8a9156c89e81a0d23",
      "value": " 128/128 [01:17&lt;00:00,  1.67s/it]"
     }
    },
    "e6376a5748434953984b386940a866f8": {
     "model_module": "@jupyter-widgets/controls",
     "model_module_version": "1.5.0",
     "model_name": "HTMLModel",
     "state": {
      "_dom_classes": [],
      "_model_module": "@jupyter-widgets/controls",
      "_model_module_version": "1.5.0",
      "_model_name": "HTMLModel",
      "_view_count": null,
      "_view_module": "@jupyter-widgets/controls",
      "_view_module_version": "1.5.0",
      "_view_name": "HTMLView",
      "description": "",
      "description_tooltip": null,
      "layout": "IPY_MODEL_a58b2f81460f48a4964f606fdf9fa297",
      "placeholder": "​",
      "style": "IPY_MODEL_fba297d24ae84a9b9bd1d9748700014b",
      "value": "100%"
     }
    },
    "f5e7a97b10ba4c55b8faa2837b67a741": {
     "model_module": "@jupyter-widgets/controls",
     "model_module_version": "1.5.0",
     "model_name": "HBoxModel",
     "state": {
      "_dom_classes": [],
      "_model_module": "@jupyter-widgets/controls",
      "_model_module_version": "1.5.0",
      "_model_name": "HBoxModel",
      "_view_count": null,
      "_view_module": "@jupyter-widgets/controls",
      "_view_module_version": "1.5.0",
      "_view_name": "HBoxView",
      "box_style": "",
      "children": [
       "IPY_MODEL_e6376a5748434953984b386940a866f8",
       "IPY_MODEL_4f21e381c2994c22a7d7373e68bae644",
       "IPY_MODEL_e03bd156acce48ccbefca0a7354c77c2"
      ],
      "layout": "IPY_MODEL_3348ce09012549aeb4e7b099716cbeb3"
     }
    },
    "fba297d24ae84a9b9bd1d9748700014b": {
     "model_module": "@jupyter-widgets/controls",
     "model_module_version": "1.5.0",
     "model_name": "DescriptionStyleModel",
     "state": {
      "_model_module": "@jupyter-widgets/controls",
      "_model_module_version": "1.5.0",
      "_model_name": "DescriptionStyleModel",
      "_view_count": null,
      "_view_module": "@jupyter-widgets/base",
      "_view_module_version": "1.2.0",
      "_view_name": "StyleView",
      "description_width": ""
     }
    }
   }
  }
 },
 "nbformat": 4,
 "nbformat_minor": 0
}
